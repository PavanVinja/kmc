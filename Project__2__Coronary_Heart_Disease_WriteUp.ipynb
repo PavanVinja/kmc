{
  "nbformat": 4,
  "nbformat_minor": 0,
  "metadata": {
    "colab": {
      "provenance": [],
      "include_colab_link": true
    },
    "kernelspec": {
      "name": "python3",
      "display_name": "Python 3"
    },
    "language_info": {
      "name": "python"
    }
  },
  "cells": [
    {
      "cell_type": "markdown",
      "metadata": {
        "id": "view-in-github",
        "colab_type": "text"
      },
      "source": [
        "<a href=\"https://colab.research.google.com/github/PavanVinja/kmc/blob/main/Project__2__Coronary_Heart_Disease_WriteUp.ipynb\" target=\"_parent\"><img src=\"https://colab.research.google.com/assets/colab-badge.svg\" alt=\"Open In Colab\"/></a>"
      ]
    },
    {
      "cell_type": "markdown",
      "source": [
        "**Summary**:"
      ],
      "metadata": {
        "id": "Jo8M3nuLY7TL"
      }
    },
    {
      "cell_type": "markdown",
      "source": [
        "This paper hopes to showcase the likelihood of a person developing CHD based on specific factors to be able to establish what are the most significant factors that play into CHD. This is able to be accomplished via predictive models, specifically by seeing what variables allow for the predictive model to generate the highest accuracy. The dataset we used is a subset of data from the Framingham Heart Study which has data on a sample of patients. This data showcases important information about how the patient is in terms of health across various factors and how that corresponds to his 10 year CHD risk. For our method, in terms of predictive models, we could utilize linear models, k-nearest neighbors, or decision trees. We decided that we wanted to utilize decision trees as this is able to capture non-linear relationships between features and the target variable as well as make it easy to understand with the most important features being selected at each split. When fitting our decision tree and predicting it on our test set, we ended up achieving a predictive accuracy of 84% which was definitely the most optimal for us. From this, we were able to conclude that the factors that were the most significant predictors in CHD was age, glucose, TotChol, and CigsPerDay. This is important information as it helps the people understand what they need to focus on and be more aware of in order to minimize their risk of developing CHD."
      ],
      "metadata": {
        "id": "zFh8o7wem27u"
      }
    },
    {
      "cell_type": "markdown",
      "source": [
        "**Data:**\n"
      ],
      "metadata": {
        "id": "BGezdaUUmu5y"
      }
    },
    {
      "cell_type": "markdown",
      "source": [
        "The analysis required the following variables measuring:"
      ],
      "metadata": {
        "id": "DXUa2l5byMUe"
      }
    },
    {
      "cell_type": "markdown",
      "source": [
        "- `sex` : the recorded sex of the observationsm with 1 denoting an participant coded as male\n",
        "- `age` : Age at the time of medical examination in years.\n",
        "- `education`: A categorical variable of the participants education, with the levels: Some high school (1), high school/GED (2), some college/vocational school (3), college (4)\n",
        "- `currentSmoker`: Current cigarette smoking at the time of examinations\n",
        "- `cigsPerDay`: Number of cigarettes smoked each day\n",
        "- `BPmeds`: Use of Anti-hypertensive medication at exam\n",
        "- `prevalentStroke`: Prevalent Stroke (0 = free of disease)\n",
        "- `prevalentHyp`: Prevalent Hypertensive. Subject was defined as hypertensive if treated\n",
        "- `diabetes`: Diabetic according to criteria of first exam treated\n",
        "- `totChol`: Total cholesterol (mg/dL)\n",
        "- `sysBP`: Systolic Blood Pressure (mmHg)\n",
        "- `diaBP`: Diastolic blood pressure (mmHg)\n",
        "- `BMI`: Body Mass Index, weight (kg)/height (m)^2\n",
        "- `heartRate`: Heart rate (beats/minute)\n",
        "- `glucose`: Blood glucose level (mg/dL)\n",
        "- `TenYearCHD` : The 10 year risk of coronary heart disease(CHD)\n",
        "\n"
      ],
      "metadata": {
        "id": "G-XSspMtySd5"
      }
    },
    {
      "cell_type": "markdown",
      "source": [
        "We decided to select the relevant variables from looking at correlations and start conducting data cleaning and wrangling. Our data set up is shown below"
      ],
      "metadata": {
        "id": "LffS4g9Ty10m"
      }
    },
    {
      "cell_type": "code",
      "source": [
        "import pandas as pd\n",
        "import numpy as np\n",
        "from sklearn.model_selection import train_test_split\n",
        "from sklearn.neighbors import KNeighborsRegressor\n",
        "import matplotlib.pyplot as plt\n",
        "from sklearn.linear_model import LinearRegression\n",
        "from sklearn.metrics import mean_squared_error"
      ],
      "metadata": {
        "id": "jDPzEniZzFA1"
      },
      "execution_count": null,
      "outputs": []
    },
    {
      "cell_type": "code",
      "source": [
        "df = pd.read_csv(\"fhs_train.csv\")\n",
        "df.head()"
      ],
      "metadata": {
        "colab": {
          "base_uri": "https://localhost:8080/",
          "height": 244
        },
        "id": "6rwYXXhsyLbA",
        "outputId": "df0f3bb3-bdbd-4df3-d3fc-2383cbb19d8f"
      },
      "execution_count": null,
      "outputs": [
        {
          "output_type": "execute_result",
          "data": {
            "text/plain": [
              "   Unnamed: 0  sex  age  education  currentSmoker  cigsPerDay  BPMeds  \\\n",
              "0        1267    1   58        1.0              0         0.0     0.0   \n",
              "1        1209    0   40        1.0              1        15.0     0.0   \n",
              "2        2050    0   52        1.0              0         0.0     0.0   \n",
              "3        1183    1   38        2.0              1        43.0     0.0   \n",
              "4        3225    0   43        1.0              0         0.0     0.0   \n",
              "\n",
              "   prevalentStroke  prevalentHyp  diabetes  totChol  sysBP  diaBP    BMI  \\\n",
              "0                0             0         0    220.0  143.0  104.0  29.85   \n",
              "1                0             0         0    199.0  122.0   82.0  22.16   \n",
              "2                0             0         0    275.0  112.0   71.0  25.68   \n",
              "3                0             1         0    170.0  130.0   94.0  23.90   \n",
              "4                0             0         0    202.0  124.0   92.0  21.26   \n",
              "\n",
              "   heartRate  glucose  TenYearCHD  \n",
              "0         75     87.0           1  \n",
              "1         85     77.0           0  \n",
              "2         80      NaN           0  \n",
              "3        110     75.0           0  \n",
              "4         75     74.0           0  "
            ],
            "text/html": [
              "\n",
              "  <div id=\"df-f4f63cb8-43ba-43bb-b8b3-12c07fc4f77f\" class=\"colab-df-container\">\n",
              "    <div>\n",
              "<style scoped>\n",
              "    .dataframe tbody tr th:only-of-type {\n",
              "        vertical-align: middle;\n",
              "    }\n",
              "\n",
              "    .dataframe tbody tr th {\n",
              "        vertical-align: top;\n",
              "    }\n",
              "\n",
              "    .dataframe thead th {\n",
              "        text-align: right;\n",
              "    }\n",
              "</style>\n",
              "<table border=\"1\" class=\"dataframe\">\n",
              "  <thead>\n",
              "    <tr style=\"text-align: right;\">\n",
              "      <th></th>\n",
              "      <th>Unnamed: 0</th>\n",
              "      <th>sex</th>\n",
              "      <th>age</th>\n",
              "      <th>education</th>\n",
              "      <th>currentSmoker</th>\n",
              "      <th>cigsPerDay</th>\n",
              "      <th>BPMeds</th>\n",
              "      <th>prevalentStroke</th>\n",
              "      <th>prevalentHyp</th>\n",
              "      <th>diabetes</th>\n",
              "      <th>totChol</th>\n",
              "      <th>sysBP</th>\n",
              "      <th>diaBP</th>\n",
              "      <th>BMI</th>\n",
              "      <th>heartRate</th>\n",
              "      <th>glucose</th>\n",
              "      <th>TenYearCHD</th>\n",
              "    </tr>\n",
              "  </thead>\n",
              "  <tbody>\n",
              "    <tr>\n",
              "      <th>0</th>\n",
              "      <td>1267</td>\n",
              "      <td>1</td>\n",
              "      <td>58</td>\n",
              "      <td>1.0</td>\n",
              "      <td>0</td>\n",
              "      <td>0.0</td>\n",
              "      <td>0.0</td>\n",
              "      <td>0</td>\n",
              "      <td>0</td>\n",
              "      <td>0</td>\n",
              "      <td>220.0</td>\n",
              "      <td>143.0</td>\n",
              "      <td>104.0</td>\n",
              "      <td>29.85</td>\n",
              "      <td>75</td>\n",
              "      <td>87.0</td>\n",
              "      <td>1</td>\n",
              "    </tr>\n",
              "    <tr>\n",
              "      <th>1</th>\n",
              "      <td>1209</td>\n",
              "      <td>0</td>\n",
              "      <td>40</td>\n",
              "      <td>1.0</td>\n",
              "      <td>1</td>\n",
              "      <td>15.0</td>\n",
              "      <td>0.0</td>\n",
              "      <td>0</td>\n",
              "      <td>0</td>\n",
              "      <td>0</td>\n",
              "      <td>199.0</td>\n",
              "      <td>122.0</td>\n",
              "      <td>82.0</td>\n",
              "      <td>22.16</td>\n",
              "      <td>85</td>\n",
              "      <td>77.0</td>\n",
              "      <td>0</td>\n",
              "    </tr>\n",
              "    <tr>\n",
              "      <th>2</th>\n",
              "      <td>2050</td>\n",
              "      <td>0</td>\n",
              "      <td>52</td>\n",
              "      <td>1.0</td>\n",
              "      <td>0</td>\n",
              "      <td>0.0</td>\n",
              "      <td>0.0</td>\n",
              "      <td>0</td>\n",
              "      <td>0</td>\n",
              "      <td>0</td>\n",
              "      <td>275.0</td>\n",
              "      <td>112.0</td>\n",
              "      <td>71.0</td>\n",
              "      <td>25.68</td>\n",
              "      <td>80</td>\n",
              "      <td>NaN</td>\n",
              "      <td>0</td>\n",
              "    </tr>\n",
              "    <tr>\n",
              "      <th>3</th>\n",
              "      <td>1183</td>\n",
              "      <td>1</td>\n",
              "      <td>38</td>\n",
              "      <td>2.0</td>\n",
              "      <td>1</td>\n",
              "      <td>43.0</td>\n",
              "      <td>0.0</td>\n",
              "      <td>0</td>\n",
              "      <td>1</td>\n",
              "      <td>0</td>\n",
              "      <td>170.0</td>\n",
              "      <td>130.0</td>\n",
              "      <td>94.0</td>\n",
              "      <td>23.90</td>\n",
              "      <td>110</td>\n",
              "      <td>75.0</td>\n",
              "      <td>0</td>\n",
              "    </tr>\n",
              "    <tr>\n",
              "      <th>4</th>\n",
              "      <td>3225</td>\n",
              "      <td>0</td>\n",
              "      <td>43</td>\n",
              "      <td>1.0</td>\n",
              "      <td>0</td>\n",
              "      <td>0.0</td>\n",
              "      <td>0.0</td>\n",
              "      <td>0</td>\n",
              "      <td>0</td>\n",
              "      <td>0</td>\n",
              "      <td>202.0</td>\n",
              "      <td>124.0</td>\n",
              "      <td>92.0</td>\n",
              "      <td>21.26</td>\n",
              "      <td>75</td>\n",
              "      <td>74.0</td>\n",
              "      <td>0</td>\n",
              "    </tr>\n",
              "  </tbody>\n",
              "</table>\n",
              "</div>\n",
              "    <div class=\"colab-df-buttons\">\n",
              "\n",
              "  <div class=\"colab-df-container\">\n",
              "    <button class=\"colab-df-convert\" onclick=\"convertToInteractive('df-f4f63cb8-43ba-43bb-b8b3-12c07fc4f77f')\"\n",
              "            title=\"Convert this dataframe to an interactive table.\"\n",
              "            style=\"display:none;\">\n",
              "\n",
              "  <svg xmlns=\"http://www.w3.org/2000/svg\" height=\"24px\" viewBox=\"0 -960 960 960\">\n",
              "    <path d=\"M120-120v-720h720v720H120Zm60-500h600v-160H180v160Zm220 220h160v-160H400v160Zm0 220h160v-160H400v160ZM180-400h160v-160H180v160Zm440 0h160v-160H620v160ZM180-180h160v-160H180v160Zm440 0h160v-160H620v160Z\"/>\n",
              "  </svg>\n",
              "    </button>\n",
              "\n",
              "  <style>\n",
              "    .colab-df-container {\n",
              "      display:flex;\n",
              "      gap: 12px;\n",
              "    }\n",
              "\n",
              "    .colab-df-convert {\n",
              "      background-color: #E8F0FE;\n",
              "      border: none;\n",
              "      border-radius: 50%;\n",
              "      cursor: pointer;\n",
              "      display: none;\n",
              "      fill: #1967D2;\n",
              "      height: 32px;\n",
              "      padding: 0 0 0 0;\n",
              "      width: 32px;\n",
              "    }\n",
              "\n",
              "    .colab-df-convert:hover {\n",
              "      background-color: #E2EBFA;\n",
              "      box-shadow: 0px 1px 2px rgba(60, 64, 67, 0.3), 0px 1px 3px 1px rgba(60, 64, 67, 0.15);\n",
              "      fill: #174EA6;\n",
              "    }\n",
              "\n",
              "    .colab-df-buttons div {\n",
              "      margin-bottom: 4px;\n",
              "    }\n",
              "\n",
              "    [theme=dark] .colab-df-convert {\n",
              "      background-color: #3B4455;\n",
              "      fill: #D2E3FC;\n",
              "    }\n",
              "\n",
              "    [theme=dark] .colab-df-convert:hover {\n",
              "      background-color: #434B5C;\n",
              "      box-shadow: 0px 1px 3px 1px rgba(0, 0, 0, 0.15);\n",
              "      filter: drop-shadow(0px 1px 2px rgba(0, 0, 0, 0.3));\n",
              "      fill: #FFFFFF;\n",
              "    }\n",
              "  </style>\n",
              "\n",
              "    <script>\n",
              "      const buttonEl =\n",
              "        document.querySelector('#df-f4f63cb8-43ba-43bb-b8b3-12c07fc4f77f button.colab-df-convert');\n",
              "      buttonEl.style.display =\n",
              "        google.colab.kernel.accessAllowed ? 'block' : 'none';\n",
              "\n",
              "      async function convertToInteractive(key) {\n",
              "        const element = document.querySelector('#df-f4f63cb8-43ba-43bb-b8b3-12c07fc4f77f');\n",
              "        const dataTable =\n",
              "          await google.colab.kernel.invokeFunction('convertToInteractive',\n",
              "                                                    [key], {});\n",
              "        if (!dataTable) return;\n",
              "\n",
              "        const docLinkHtml = 'Like what you see? Visit the ' +\n",
              "          '<a target=\"_blank\" href=https://colab.research.google.com/notebooks/data_table.ipynb>data table notebook</a>'\n",
              "          + ' to learn more about interactive tables.';\n",
              "        element.innerHTML = '';\n",
              "        dataTable['output_type'] = 'display_data';\n",
              "        await google.colab.output.renderOutput(dataTable, element);\n",
              "        const docLink = document.createElement('div');\n",
              "        docLink.innerHTML = docLinkHtml;\n",
              "        element.appendChild(docLink);\n",
              "      }\n",
              "    </script>\n",
              "  </div>\n",
              "\n",
              "\n",
              "<div id=\"df-a6edcc2e-3c5b-4b42-827c-6b1a7014d461\">\n",
              "  <button class=\"colab-df-quickchart\" onclick=\"quickchart('df-a6edcc2e-3c5b-4b42-827c-6b1a7014d461')\"\n",
              "            title=\"Suggest charts\"\n",
              "            style=\"display:none;\">\n",
              "\n",
              "<svg xmlns=\"http://www.w3.org/2000/svg\" height=\"24px\"viewBox=\"0 0 24 24\"\n",
              "     width=\"24px\">\n",
              "    <g>\n",
              "        <path d=\"M19 3H5c-1.1 0-2 .9-2 2v14c0 1.1.9 2 2 2h14c1.1 0 2-.9 2-2V5c0-1.1-.9-2-2-2zM9 17H7v-7h2v7zm4 0h-2V7h2v10zm4 0h-2v-4h2v4z\"/>\n",
              "    </g>\n",
              "</svg>\n",
              "  </button>\n",
              "\n",
              "<style>\n",
              "  .colab-df-quickchart {\n",
              "      --bg-color: #E8F0FE;\n",
              "      --fill-color: #1967D2;\n",
              "      --hover-bg-color: #E2EBFA;\n",
              "      --hover-fill-color: #174EA6;\n",
              "      --disabled-fill-color: #AAA;\n",
              "      --disabled-bg-color: #DDD;\n",
              "  }\n",
              "\n",
              "  [theme=dark] .colab-df-quickchart {\n",
              "      --bg-color: #3B4455;\n",
              "      --fill-color: #D2E3FC;\n",
              "      --hover-bg-color: #434B5C;\n",
              "      --hover-fill-color: #FFFFFF;\n",
              "      --disabled-bg-color: #3B4455;\n",
              "      --disabled-fill-color: #666;\n",
              "  }\n",
              "\n",
              "  .colab-df-quickchart {\n",
              "    background-color: var(--bg-color);\n",
              "    border: none;\n",
              "    border-radius: 50%;\n",
              "    cursor: pointer;\n",
              "    display: none;\n",
              "    fill: var(--fill-color);\n",
              "    height: 32px;\n",
              "    padding: 0;\n",
              "    width: 32px;\n",
              "  }\n",
              "\n",
              "  .colab-df-quickchart:hover {\n",
              "    background-color: var(--hover-bg-color);\n",
              "    box-shadow: 0 1px 2px rgba(60, 64, 67, 0.3), 0 1px 3px 1px rgba(60, 64, 67, 0.15);\n",
              "    fill: var(--button-hover-fill-color);\n",
              "  }\n",
              "\n",
              "  .colab-df-quickchart-complete:disabled,\n",
              "  .colab-df-quickchart-complete:disabled:hover {\n",
              "    background-color: var(--disabled-bg-color);\n",
              "    fill: var(--disabled-fill-color);\n",
              "    box-shadow: none;\n",
              "  }\n",
              "\n",
              "  .colab-df-spinner {\n",
              "    border: 2px solid var(--fill-color);\n",
              "    border-color: transparent;\n",
              "    border-bottom-color: var(--fill-color);\n",
              "    animation:\n",
              "      spin 1s steps(1) infinite;\n",
              "  }\n",
              "\n",
              "  @keyframes spin {\n",
              "    0% {\n",
              "      border-color: transparent;\n",
              "      border-bottom-color: var(--fill-color);\n",
              "      border-left-color: var(--fill-color);\n",
              "    }\n",
              "    20% {\n",
              "      border-color: transparent;\n",
              "      border-left-color: var(--fill-color);\n",
              "      border-top-color: var(--fill-color);\n",
              "    }\n",
              "    30% {\n",
              "      border-color: transparent;\n",
              "      border-left-color: var(--fill-color);\n",
              "      border-top-color: var(--fill-color);\n",
              "      border-right-color: var(--fill-color);\n",
              "    }\n",
              "    40% {\n",
              "      border-color: transparent;\n",
              "      border-right-color: var(--fill-color);\n",
              "      border-top-color: var(--fill-color);\n",
              "    }\n",
              "    60% {\n",
              "      border-color: transparent;\n",
              "      border-right-color: var(--fill-color);\n",
              "    }\n",
              "    80% {\n",
              "      border-color: transparent;\n",
              "      border-right-color: var(--fill-color);\n",
              "      border-bottom-color: var(--fill-color);\n",
              "    }\n",
              "    90% {\n",
              "      border-color: transparent;\n",
              "      border-bottom-color: var(--fill-color);\n",
              "    }\n",
              "  }\n",
              "</style>\n",
              "\n",
              "  <script>\n",
              "    async function quickchart(key) {\n",
              "      const quickchartButtonEl =\n",
              "        document.querySelector('#' + key + ' button');\n",
              "      quickchartButtonEl.disabled = true;  // To prevent multiple clicks.\n",
              "      quickchartButtonEl.classList.add('colab-df-spinner');\n",
              "      try {\n",
              "        const charts = await google.colab.kernel.invokeFunction(\n",
              "            'suggestCharts', [key], {});\n",
              "      } catch (error) {\n",
              "        console.error('Error during call to suggestCharts:', error);\n",
              "      }\n",
              "      quickchartButtonEl.classList.remove('colab-df-spinner');\n",
              "      quickchartButtonEl.classList.add('colab-df-quickchart-complete');\n",
              "    }\n",
              "    (() => {\n",
              "      let quickchartButtonEl =\n",
              "        document.querySelector('#df-a6edcc2e-3c5b-4b42-827c-6b1a7014d461 button');\n",
              "      quickchartButtonEl.style.display =\n",
              "        google.colab.kernel.accessAllowed ? 'block' : 'none';\n",
              "    })();\n",
              "  </script>\n",
              "</div>\n",
              "    </div>\n",
              "  </div>\n"
            ],
            "application/vnd.google.colaboratory.intrinsic+json": {
              "type": "dataframe",
              "variable_name": "df",
              "summary": "{\n  \"name\": \"df\",\n  \"rows\": 3180,\n  \"fields\": [\n    {\n      \"column\": \"Unnamed: 0\",\n      \"properties\": {\n        \"dtype\": \"number\",\n        \"std\": 1231,\n        \"min\": 1,\n        \"max\": 4240,\n        \"num_unique_values\": 3180,\n        \"samples\": [\n          3896,\n          2879,\n          3270\n        ],\n        \"semantic_type\": \"\",\n        \"description\": \"\"\n      }\n    },\n    {\n      \"column\": \"sex\",\n      \"properties\": {\n        \"dtype\": \"number\",\n        \"std\": 0,\n        \"min\": 0,\n        \"max\": 1,\n        \"num_unique_values\": 2,\n        \"samples\": [\n          0,\n          1\n        ],\n        \"semantic_type\": \"\",\n        \"description\": \"\"\n      }\n    },\n    {\n      \"column\": \"age\",\n      \"properties\": {\n        \"dtype\": \"number\",\n        \"std\": 8,\n        \"min\": 32,\n        \"max\": 70,\n        \"num_unique_values\": 39,\n        \"samples\": [\n          67,\n          32\n        ],\n        \"semantic_type\": \"\",\n        \"description\": \"\"\n      }\n    },\n    {\n      \"column\": \"education\",\n      \"properties\": {\n        \"dtype\": \"number\",\n        \"std\": 1.011134624909823,\n        \"min\": 1.0,\n        \"max\": 4.0,\n        \"num_unique_values\": 4,\n        \"samples\": [\n          2.0,\n          3.0\n        ],\n        \"semantic_type\": \"\",\n        \"description\": \"\"\n      }\n    },\n    {\n      \"column\": \"currentSmoker\",\n      \"properties\": {\n        \"dtype\": \"number\",\n        \"std\": 0,\n        \"min\": 0,\n        \"max\": 1,\n        \"num_unique_values\": 2,\n        \"samples\": [\n          1,\n          0\n        ],\n        \"semantic_type\": \"\",\n        \"description\": \"\"\n      }\n    },\n    {\n      \"column\": \"cigsPerDay\",\n      \"properties\": {\n        \"dtype\": \"number\",\n        \"std\": 12.013704001555473,\n        \"min\": 0.0,\n        \"max\": 70.0,\n        \"num_unique_values\": 33,\n        \"samples\": [\n          38.0,\n          8.0\n        ],\n        \"semantic_type\": \"\",\n        \"description\": \"\"\n      }\n    },\n    {\n      \"column\": \"BPMeds\",\n      \"properties\": {\n        \"dtype\": \"number\",\n        \"std\": 0.16947908596200822,\n        \"min\": 0.0,\n        \"max\": 1.0,\n        \"num_unique_values\": 2,\n        \"samples\": [\n          1.0,\n          0.0\n        ],\n        \"semantic_type\": \"\",\n        \"description\": \"\"\n      }\n    },\n    {\n      \"column\": \"prevalentStroke\",\n      \"properties\": {\n        \"dtype\": \"number\",\n        \"std\": 0,\n        \"min\": 0,\n        \"max\": 1,\n        \"num_unique_values\": 2,\n        \"samples\": [\n          1,\n          0\n        ],\n        \"semantic_type\": \"\",\n        \"description\": \"\"\n      }\n    },\n    {\n      \"column\": \"prevalentHyp\",\n      \"properties\": {\n        \"dtype\": \"number\",\n        \"std\": 0,\n        \"min\": 0,\n        \"max\": 1,\n        \"num_unique_values\": 2,\n        \"samples\": [\n          1,\n          0\n        ],\n        \"semantic_type\": \"\",\n        \"description\": \"\"\n      }\n    },\n    {\n      \"column\": \"diabetes\",\n      \"properties\": {\n        \"dtype\": \"number\",\n        \"std\": 0,\n        \"min\": 0,\n        \"max\": 1,\n        \"num_unique_values\": 2,\n        \"samples\": [\n          1,\n          0\n        ],\n        \"semantic_type\": \"\",\n        \"description\": \"\"\n      }\n    },\n    {\n      \"column\": \"totChol\",\n      \"properties\": {\n        \"dtype\": \"number\",\n        \"std\": 44.847410643806406,\n        \"min\": 107.0,\n        \"max\": 696.0,\n        \"num_unique_values\": 243,\n        \"samples\": [\n          180.0,\n          237.0\n        ],\n        \"semantic_type\": \"\",\n        \"description\": \"\"\n      }\n    },\n    {\n      \"column\": \"sysBP\",\n      \"properties\": {\n        \"dtype\": \"number\",\n        \"std\": 22.433266948078337,\n        \"min\": 83.5,\n        \"max\": 295.0,\n        \"num_unique_values\": 229,\n        \"samples\": [\n          181.5,\n          174.0\n        ],\n        \"semantic_type\": \"\",\n        \"description\": \"\"\n      }\n    },\n    {\n      \"column\": \"diaBP\",\n      \"properties\": {\n        \"dtype\": \"number\",\n        \"std\": 12.009212492738772,\n        \"min\": 50.0,\n        \"max\": 142.5,\n        \"num_unique_values\": 139,\n        \"samples\": [\n          142.5,\n          70.5\n        ],\n        \"semantic_type\": \"\",\n        \"description\": \"\"\n      }\n    },\n    {\n      \"column\": \"BMI\",\n      \"properties\": {\n        \"dtype\": \"number\",\n        \"std\": 4.130474751655827,\n        \"min\": 15.54,\n        \"max\": 56.8,\n        \"num_unique_values\": 1234,\n        \"samples\": [\n          26.87,\n          29.18\n        ],\n        \"semantic_type\": \"\",\n        \"description\": \"\"\n      }\n    },\n    {\n      \"column\": \"heartRate\",\n      \"properties\": {\n        \"dtype\": \"number\",\n        \"std\": 12,\n        \"min\": 44,\n        \"max\": 140,\n        \"num_unique_values\": 70,\n        \"samples\": [\n          69,\n          75\n        ],\n        \"semantic_type\": \"\",\n        \"description\": \"\"\n      }\n    },\n    {\n      \"column\": \"glucose\",\n      \"properties\": {\n        \"dtype\": \"number\",\n        \"std\": 23.625356737313467,\n        \"min\": 40.0,\n        \"max\": 394.0,\n        \"num_unique_values\": 130,\n        \"samples\": [\n          118.0,\n          88.0\n        ],\n        \"semantic_type\": \"\",\n        \"description\": \"\"\n      }\n    },\n    {\n      \"column\": \"TenYearCHD\",\n      \"properties\": {\n        \"dtype\": \"number\",\n        \"std\": 0,\n        \"min\": 0,\n        \"max\": 1,\n        \"num_unique_values\": 2,\n        \"samples\": [\n          0,\n          1\n        ],\n        \"semantic_type\": \"\",\n        \"description\": \"\"\n      }\n    }\n  ]\n}"
            }
          },
          "metadata": {},
          "execution_count": 28
        }
      ]
    },
    {
      "cell_type": "markdown",
      "source": [
        "Analyzing relationships between variables through generating correlation matrix"
      ],
      "metadata": {
        "id": "lokizI2qzy7C"
      }
    },
    {
      "cell_type": "code",
      "source": [
        "corr_matrix = df.corr()\n",
        "#print(corr_matrix)\n",
        "\n",
        "resp_matrix = corr_matrix['TenYearCHD'].sort_values()\n",
        "print(resp_matrix)"
      ],
      "metadata": {
        "colab": {
          "base_uri": "https://localhost:8080/"
        },
        "id": "mJ1aL15bzjSx",
        "outputId": "144549db-cc75-4d14-de8b-9a4d95a6117f"
      },
      "execution_count": null,
      "outputs": [
        {
          "output_type": "stream",
          "name": "stdout",
          "text": [
            "education         -0.052668\n",
            "Unnamed: 0        -0.019496\n",
            "currentSmoker      0.001644\n",
            "heartRate          0.023205\n",
            "cigsPerDay         0.047712\n",
            "prevalentStroke    0.062357\n",
            "BMI                0.072830\n",
            "BPMeds             0.088135\n",
            "sex                0.097138\n",
            "totChol            0.099704\n",
            "diabetes           0.105644\n",
            "glucose            0.126485\n",
            "diaBP              0.133094\n",
            "prevalentHyp       0.163910\n",
            "sysBP              0.205898\n",
            "age                0.225568\n",
            "TenYearCHD         1.000000\n",
            "Name: TenYearCHD, dtype: float64\n"
          ]
        }
      ]
    },
    {
      "cell_type": "markdown",
      "source": [
        "The **first variable** cleaned was education. This variable seemed to have a low negative correlation with the ‘TenYearCHD’ variable (the lowest of the variables present within the data). Due to this, and the relatively low number of missing values, all missing values were simply set to the mean for education field (the value ‘2’)."
      ],
      "metadata": {
        "id": "uBm3du15nAmw"
      }
    },
    {
      "cell_type": "code",
      "source": [
        "education_mean = df['education'].mean()\n",
        "print(education_mean)\n",
        "\n",
        "#Mean is essentially 2, so impute all missing values\n",
        "df['education'].fillna(2, inplace = True)"
      ],
      "metadata": {
        "id": "1bpQcjZXn6vU",
        "colab": {
          "base_uri": "https://localhost:8080/"
        },
        "outputId": "c3791faa-3e33-4125-c530-e34ad05c30b6"
      },
      "execution_count": null,
      "outputs": [
        {
          "output_type": "stream",
          "name": "stdout",
          "text": [
            "1.95702746365105\n"
          ]
        }
      ]
    },
    {
      "cell_type": "markdown",
      "source": [
        "The **second variable** cleaned was ‘cigsPerDay’. This variable is heavily influenced by the ‘currentSmoker’ variable as individuals who do not smoke should have a value of zero for this field. As a result, all individuals with a ‘0’ for currentSmoker were also set to smoke zero cigarettes per day when the value was missing. Individuals marked as current smokers with missing values were handled differently. To impute their value, the mean of cigarettes per day for all individuals who reported being a current smoker was utilized.\n"
      ],
      "metadata": {
        "id": "Tmw5ydasnA7p"
      }
    },
    {
      "cell_type": "code",
      "source": [
        "for index, row in df.iterrows():\n",
        "    if pd.isnull(row['cigsPerDay']):\n",
        "\n",
        "        if row['currentSmoker'] == 0:\n",
        "            df.at[index, 'cigsPerDay'] = 0\n",
        "        else:\n",
        "            df.at[index, 'cigsPerDay'] = 9"
      ],
      "metadata": {
        "id": "LMi796Lan7WZ"
      },
      "execution_count": null,
      "outputs": []
    },
    {
      "cell_type": "markdown",
      "source": [
        "The **third variable** cleaned was ‘BPMeds’. This variable only had 37 missing values and had less significant positive correlation with ‘TenYearCHD’ than other similar variables within the dataset such as ‘diaBP’. Furthermore, so few individuals identified with this category (only around 3% of observations) that it was decided to impute all missing values with 0.\n"
      ],
      "metadata": {
        "id": "VGEcPajTnG2w"
      }
    },
    {
      "cell_type": "code",
      "source": [
        "df['BPMeds'].fillna(0, inplace = True)"
      ],
      "metadata": {
        "id": "4W_L8cGan7z0"
      },
      "execution_count": null,
      "outputs": []
    },
    {
      "cell_type": "markdown",
      "source": [
        "The **fourth variable** cleaned was ‘totChol’. This variable also had very few missing values. On average this value was 236.0 mg/dL within patients with a standard deviation of 44.85 mg/dL. The slightly larger standard deviation than expected influenced us to impute the missing values with the median value of 233.0 mg/dL instead, although with both values being so close to one another this may not have been necessary."
      ],
      "metadata": {
        "id": "wp-1xnoxopQw"
      }
    },
    {
      "cell_type": "code",
      "source": [
        "df['totChol'].median()\n",
        "df['totChol'].fillna(233.0, inplace = True)"
      ],
      "metadata": {
        "id": "od-V05Tfn8d_"
      },
      "execution_count": null,
      "outputs": []
    },
    {
      "cell_type": "markdown",
      "source": [
        "The **fifth variable** cleaned was ‘BMI’. This variable had only a few missing values and as such the mean value was used to input the missing fields."
      ],
      "metadata": {
        "id": "qjasirjRo7RR"
      }
    },
    {
      "cell_type": "code",
      "source": [
        "df['BMI'].mean()\n",
        "df['BMI'].fillna(25.89, inplace = True)"
      ],
      "metadata": {
        "id": "PkRnTFRFn8-C"
      },
      "execution_count": null,
      "outputs": []
    },
    {
      "cell_type": "markdown",
      "source": [
        "The **final variable** cleaned was glucose. This variable had by far the most missing values of the dataset but proportionally they were still small to the size of the overall dataset (There were 285 out of 3180 total observations). Furthermore, the variable had a rather high standard deviation and an elevated positive correlated with the diabetes variable. Because the field is believed to be missing completely at random, it was decided that dropping the rows with missing values would not significantly alter the results of our model.\n"
      ],
      "metadata": {
        "id": "r9s35J29o-4L"
      }
    },
    {
      "cell_type": "code",
      "source": [
        "df.dropna(subset=['glucose'], inplace=True)"
      ],
      "metadata": {
        "id": "Fg0LyKHOn9UK"
      },
      "execution_count": null,
      "outputs": []
    },
    {
      "cell_type": "code",
      "source": [
        "na_counts = df.isna().sum()\n",
        "print(na_counts)"
      ],
      "metadata": {
        "id": "4PQkoGY33exV",
        "outputId": "c1afbc7f-efdf-41eb-c26c-ef7b7447890e",
        "colab": {
          "base_uri": "https://localhost:8080/"
        }
      },
      "execution_count": null,
      "outputs": [
        {
          "output_type": "stream",
          "name": "stdout",
          "text": [
            "Unnamed: 0         0\n",
            "sex                0\n",
            "age                0\n",
            "education          0\n",
            "currentSmoker      0\n",
            "cigsPerDay         0\n",
            "BPMeds             0\n",
            "prevalentStroke    0\n",
            "prevalentHyp       0\n",
            "diabetes           0\n",
            "totChol            0\n",
            "sysBP              0\n",
            "diaBP              0\n",
            "BMI                0\n",
            "heartRate          0\n",
            "glucose            0\n",
            "TenYearCHD         0\n",
            "dtype: int64\n"
          ]
        }
      ]
    },
    {
      "cell_type": "markdown",
      "source": [
        "**Results:**"
      ],
      "metadata": {
        "id": "mSnXZSyDoQrx"
      }
    },
    {
      "cell_type": "markdown",
      "source": [
        "From analyzing the correlation matrix, our initial predictions were that the main factors that would play into CHD would be age, smoking status, and sex. However, when fitting and running our decision tree on the training data, we found that there were other factors that were predictors as well such as glucose, totalChol, and sysBP. Out of all the predictors, age was the most significant predictor and  represented 83% of the split in the decision tree. The way the decision tree is set up is shown below."
      ],
      "metadata": {
        "id": "4OfphKmYoT7b"
      }
    },
    {
      "cell_type": "code",
      "source": [
        "from sklearn.tree import DecisionTreeClassifier # Import the tree classifier\n",
        "from sklearn.tree import plot_tree # Import the tree classifier\n",
        "\n",
        "# Process data:\n",
        "y = df['TenYearCHD']\n",
        "X = df.drop(['TenYearCHD'], axis=1)\n",
        "\n",
        "# Fit decision tree:\n",
        "cart = DecisionTreeClassifier() # Create a classifier object\n",
        "cart = DecisionTreeClassifier(max_depth=3) #Keeping the tree from over fitting\n",
        "cart = cart.fit(X, y) # Fit the classifier\n",
        "\n",
        "# Visualize results:\n",
        "plot_tree(cart,filled=True)"
      ],
      "metadata": {
        "colab": {
          "base_uri": "https://localhost:8080/",
          "height": 674
        },
        "id": "8Gt3Lxvzxd8Z",
        "outputId": "8aca5e48-6398-435b-8c44-63da75b93e35"
      },
      "execution_count": null,
      "outputs": [
        {
          "output_type": "execute_result",
          "data": {
            "text/plain": [
              "[Text(0.5, 0.875, 'x[2] <= 48.5\\ngini = 0.264\\nsamples = 2895\\nvalue = [2442, 453]'),\n",
              " Text(0.25, 0.625, 'x[15] <= 232.5\\ngini = 0.148\\nsamples = 1420\\nvalue = [1306, 114]'),\n",
              " Text(0.125, 0.375, 'x[10] <= 398.5\\ngini = 0.143\\nsamples = 1415\\nvalue = [1305, 110]'),\n",
              " Text(0.0625, 0.125, 'gini = 0.14\\nsamples = 1412\\nvalue = [1305, 107]'),\n",
              " Text(0.1875, 0.125, 'gini = 0.0\\nsamples = 3\\nvalue = [0, 3]'),\n",
              " Text(0.375, 0.375, 'x[8] <= 0.5\\ngini = 0.32\\nsamples = 5\\nvalue = [1, 4]'),\n",
              " Text(0.3125, 0.125, 'gini = 0.0\\nsamples = 1\\nvalue = [1, 0]'),\n",
              " Text(0.4375, 0.125, 'gini = 0.0\\nsamples = 4\\nvalue = [0, 4]'),\n",
              " Text(0.75, 0.625, 'x[15] <= 122.5\\ngini = 0.354\\nsamples = 1475\\nvalue = [1136, 339]'),\n",
              " Text(0.625, 0.375, 'x[11] <= 142.75\\ngini = 0.341\\nsamples = 1428\\nvalue = [1117, 311]'),\n",
              " Text(0.5625, 0.125, 'gini = 0.283\\nsamples = 875\\nvalue = [726, 149]'),\n",
              " Text(0.6875, 0.125, 'gini = 0.414\\nsamples = 553\\nvalue = [391, 162]'),\n",
              " Text(0.875, 0.375, 'x[13] <= 34.85\\ngini = 0.482\\nsamples = 47\\nvalue = [19, 28]'),\n",
              " Text(0.8125, 0.125, 'gini = 0.454\\nsamples = 43\\nvalue = [15, 28]'),\n",
              " Text(0.9375, 0.125, 'gini = 0.0\\nsamples = 4\\nvalue = [4, 0]')]"
            ]
          },
          "metadata": {},
          "execution_count": 37
        },
        {
          "output_type": "display_data",
          "data": {
            "text/plain": [
              "<Figure size 640x480 with 1 Axes>"
            ],
            "image/png": "[encoded data removed]"
          },
          "metadata": {}
        }
      ]
    },
    {
      "cell_type": "markdown",
      "source": [
        "To get the accuracy of the decision tree, we had to run it again on the test data set cleaned."
      ],
      "metadata": {
        "id": "CMDKmfV94hkC"
      }
    },
    {
      "cell_type": "code",
      "source": [
        "#Running the model on test data to see the fit.\n",
        "\n",
        "#Import and clean test\n",
        "df_test = pd.read_csv(\"./project_chd/fhs_test.csv\")\n",
        "\n",
        "education_mean = df_test['education'].mean()\n",
        "#Mean is essentially 2, so impute all missing values\n",
        "df_test['education'].fillna(2, inplace = True)\n",
        "\n",
        "for index, row in df_test.iterrows():\n",
        "    if pd.isnull(row['cigsPerDay']):\n",
        "\n",
        "        if row['currentSmoker'] == 0:\n",
        "            df_test.at[index, 'cigsPerDay'] = 0\n",
        "        else:\n",
        "            df_test.at[index, 'cigsPerDay'] = 9\n",
        "\n",
        "df_test['BPMeds'].fillna(0.03, inplace = True)\n",
        "df_test['heartRate'].fillna(60, inplace = True)\n",
        "df_test['totChol'].fillna(233.0, inplace = True)\n",
        "df_test['BMI'].fillna(25.89, inplace = True)\n",
        "df_test['glucose'].fillna(82, inplace = True)\n",
        "\n",
        "na_counts = df_test.isna().sum()\n",
        "print(na_counts)\n",
        "df_test.info()\n"
      ],
      "metadata": {
        "id": "XQfgQJ8-n2vo",
        "outputId": "dab094a7-396a-4a71-81a1-224135dc2eb0",
        "colab": {
          "base_uri": "https://localhost:8080/"
        }
      },
      "execution_count": null,
      "outputs": [
        {
          "output_type": "stream",
          "name": "stdout",
          "text": [
            "Unnamed: 0         0\n",
            "sex                0\n",
            "age                0\n",
            "education          0\n",
            "currentSmoker      0\n",
            "cigsPerDay         0\n",
            "BPMeds             0\n",
            "prevalentStroke    0\n",
            "prevalentHyp       0\n",
            "diabetes           0\n",
            "totChol            0\n",
            "sysBP              0\n",
            "diaBP              0\n",
            "BMI                0\n",
            "heartRate          0\n",
            "glucose            0\n",
            "TenYearCHD         0\n",
            "dtype: int64\n",
            "<class 'pandas.core.frame.DataFrame'>\n",
            "RangeIndex: 1060 entries, 0 to 1059\n",
            "Data columns (total 17 columns):\n",
            " #   Column           Non-Null Count  Dtype  \n",
            "---  ------           --------------  -----  \n",
            " 0   Unnamed: 0       1060 non-null   int64  \n",
            " 1   sex              1060 non-null   int64  \n",
            " 2   age              1060 non-null   int64  \n",
            " 3   education        1060 non-null   float64\n",
            " 4   currentSmoker    1060 non-null   int64  \n",
            " 5   cigsPerDay       1060 non-null   float64\n",
            " 6   BPMeds           1060 non-null   float64\n",
            " 7   prevalentStroke  1060 non-null   int64  \n",
            " 8   prevalentHyp     1060 non-null   int64  \n",
            " 9   diabetes         1060 non-null   int64  \n",
            " 10  totChol          1060 non-null   float64\n",
            " 11  sysBP            1060 non-null   float64\n",
            " 12  diaBP            1060 non-null   float64\n",
            " 13  BMI              1060 non-null   float64\n",
            " 14  heartRate        1060 non-null   float64\n",
            " 15  glucose          1060 non-null   float64\n",
            " 16  TenYearCHD       1060 non-null   int64  \n",
            "dtypes: float64(9), int64(8)\n",
            "memory usage: 140.9 KB\n"
          ]
        }
      ]
    },
    {
      "cell_type": "code",
      "source": [
        "#Running the model again with the test data set cleaned, to get accuracy (R2)\n",
        "\n",
        "from sklearn.tree import DecisionTreeClassifier # Import the tree classifier\n",
        "from sklearn.tree import plot_tree # Import the tree classifier\n",
        "\n",
        "# Process data:\n",
        "y_train = df['TenYearCHD']\n",
        "X_train = df.drop(['TenYearCHD'], axis=1)\n",
        "y_test = df_test['TenYearCHD']\n",
        "X_test = df_test.drop(['TenYearCHD'], axis = 1)\n",
        "\n",
        "# Fit decision tree:\n",
        "cart = DecisionTreeClassifier() # Create a classifier object\n",
        "cart = DecisionTreeClassifier(max_depth=3) #Keeping the tree from over fitting\n",
        "cart = cart.fit(X_train, y_train) # Fit the classifier\n",
        "\n",
        "# Visualize results:\n",
        "plot_tree(cart,filled=True)\n",
        "\n",
        "## Make Predictions on the Test Set\n",
        "y_hat = cart.predict(X_test)\n",
        "\n",
        "## Confusion Matrix\n",
        "tab = pd.crosstab(y_test,y_hat) # Compute confusion matrix\n",
        "acc = (tab.iloc[0,0]+tab.iloc[1,1])/(tab.iloc[0,0]+tab.iloc[1,1]+tab.iloc[0,1]+tab.iloc[1,0]) # Compute Accuracy\n",
        "#acc = np.trace(tab)/np.sum(np.sum(tab,axis=0)) # Faster way to compute accuracy\n",
        "print('Accuracy: ', acc, '\\n')\n",
        "pd.crosstab(y_test,y_hat)"
      ],
      "metadata": {
        "id": "ioJu_wPUrpEF",
        "outputId": "7bc25374-a694-42f6-d9a9-0aa18cadff2a",
        "colab": {
          "base_uri": "https://localhost:8080/",
          "height": 567
        }
      },
      "execution_count": null,
      "outputs": [
        {
          "output_type": "stream",
          "name": "stdout",
          "text": [
            "Accuracy:  0.8443396226415094 \n",
            "\n"
          ]
        },
        {
          "output_type": "execute_result",
          "data": {
            "text/plain": [
              "col_0         0   1\n",
              "TenYearCHD         \n",
              "0           888  15\n",
              "1           150   7"
            ],
            "text/html": [
              "\n",
              "  <div id=\"df-211022ca-fa1b-4123-b164-3bdd416ca3b1\" class=\"colab-df-container\">\n",
              "    <div>\n",
              "<style scoped>\n",
              "    .dataframe tbody tr th:only-of-type {\n",
              "        vertical-align: middle;\n",
              "    }\n",
              "\n",
              "    .dataframe tbody tr th {\n",
              "        vertical-align: top;\n",
              "    }\n",
              "\n",
              "    .dataframe thead th {\n",
              "        text-align: right;\n",
              "    }\n",
              "</style>\n",
              "<table border=\"1\" class=\"dataframe\">\n",
              "  <thead>\n",
              "    <tr style=\"text-align: right;\">\n",
              "      <th>col_0</th>\n",
              "      <th>0</th>\n",
              "      <th>1</th>\n",
              "    </tr>\n",
              "    <tr>\n",
              "      <th>TenYearCHD</th>\n",
              "      <th></th>\n",
              "      <th></th>\n",
              "    </tr>\n",
              "  </thead>\n",
              "  <tbody>\n",
              "    <tr>\n",
              "      <th>0</th>\n",
              "      <td>888</td>\n",
              "      <td>15</td>\n",
              "    </tr>\n",
              "    <tr>\n",
              "      <th>1</th>\n",
              "      <td>150</td>\n",
              "      <td>7</td>\n",
              "    </tr>\n",
              "  </tbody>\n",
              "</table>\n",
              "</div>\n",
              "    <div class=\"colab-df-buttons\">\n",
              "\n",
              "  <div class=\"colab-df-container\">\n",
              "    <button class=\"colab-df-convert\" onclick=\"convertToInteractive('df-211022ca-fa1b-4123-b164-3bdd416ca3b1')\"\n",
              "            title=\"Convert this dataframe to an interactive table.\"\n",
              "            style=\"display:none;\">\n",
              "\n",
              "  <svg xmlns=\"http://www.w3.org/2000/svg\" height=\"24px\" viewBox=\"0 -960 960 960\">\n",
              "    <path d=\"M120-120v-720h720v720H120Zm60-500h600v-160H180v160Zm220 220h160v-160H400v160Zm0 220h160v-160H400v160ZM180-400h160v-160H180v160Zm440 0h160v-160H620v160ZM180-180h160v-160H180v160Zm440 0h160v-160H620v160Z\"/>\n",
              "  </svg>\n",
              "    </button>\n",
              "\n",
              "  <style>\n",
              "    .colab-df-container {\n",
              "      display:flex;\n",
              "      gap: 12px;\n",
              "    }\n",
              "\n",
              "    .colab-df-convert {\n",
              "      background-color: #E8F0FE;\n",
              "      border: none;\n",
              "      border-radius: 50%;\n",
              "      cursor: pointer;\n",
              "      display: none;\n",
              "      fill: #1967D2;\n",
              "      height: 32px;\n",
              "      padding: 0 0 0 0;\n",
              "      width: 32px;\n",
              "    }\n",
              "\n",
              "    .colab-df-convert:hover {\n",
              "      background-color: #E2EBFA;\n",
              "      box-shadow: 0px 1px 2px rgba(60, 64, 67, 0.3), 0px 1px 3px 1px rgba(60, 64, 67, 0.15);\n",
              "      fill: #174EA6;\n",
              "    }\n",
              "\n",
              "    .colab-df-buttons div {\n",
              "      margin-bottom: 4px;\n",
              "    }\n",
              "\n",
              "    [theme=dark] .colab-df-convert {\n",
              "      background-color: #3B4455;\n",
              "      fill: #D2E3FC;\n",
              "    }\n",
              "\n",
              "    [theme=dark] .colab-df-convert:hover {\n",
              "      background-color: #434B5C;\n",
              "      box-shadow: 0px 1px 3px 1px rgba(0, 0, 0, 0.15);\n",
              "      filter: drop-shadow(0px 1px 2px rgba(0, 0, 0, 0.3));\n",
              "      fill: #FFFFFF;\n",
              "    }\n",
              "  </style>\n",
              "\n",
              "    <script>\n",
              "      const buttonEl =\n",
              "        document.querySelector('#df-211022ca-fa1b-4123-b164-3bdd416ca3b1 button.colab-df-convert');\n",
              "      buttonEl.style.display =\n",
              "        google.colab.kernel.accessAllowed ? 'block' : 'none';\n",
              "\n",
              "      async function convertToInteractive(key) {\n",
              "        const element = document.querySelector('#df-211022ca-fa1b-4123-b164-3bdd416ca3b1');\n",
              "        const dataTable =\n",
              "          await google.colab.kernel.invokeFunction('convertToInteractive',\n",
              "                                                    [key], {});\n",
              "        if (!dataTable) return;\n",
              "\n",
              "        const docLinkHtml = 'Like what you see? Visit the ' +\n",
              "          '<a target=\"_blank\" href=https://colab.research.google.com/notebooks/data_table.ipynb>data table notebook</a>'\n",
              "          + ' to learn more about interactive tables.';\n",
              "        element.innerHTML = '';\n",
              "        dataTable['output_type'] = 'display_data';\n",
              "        await google.colab.output.renderOutput(dataTable, element);\n",
              "        const docLink = document.createElement('div');\n",
              "        docLink.innerHTML = docLinkHtml;\n",
              "        element.appendChild(docLink);\n",
              "      }\n",
              "    </script>\n",
              "  </div>\n",
              "\n",
              "\n",
              "<div id=\"df-11931246-5ef0-4e5a-bd10-8316c623f501\">\n",
              "  <button class=\"colab-df-quickchart\" onclick=\"quickchart('df-11931246-5ef0-4e5a-bd10-8316c623f501')\"\n",
              "            title=\"Suggest charts\"\n",
              "            style=\"display:none;\">\n",
              "\n",
              "<svg xmlns=\"http://www.w3.org/2000/svg\" height=\"24px\"viewBox=\"0 0 24 24\"\n",
              "     width=\"24px\">\n",
              "    <g>\n",
              "        <path d=\"M19 3H5c-1.1 0-2 .9-2 2v14c0 1.1.9 2 2 2h14c1.1 0 2-.9 2-2V5c0-1.1-.9-2-2-2zM9 17H7v-7h2v7zm4 0h-2V7h2v10zm4 0h-2v-4h2v4z\"/>\n",
              "    </g>\n",
              "</svg>\n",
              "  </button>\n",
              "\n",
              "<style>\n",
              "  .colab-df-quickchart {\n",
              "      --bg-color: #E8F0FE;\n",
              "      --fill-color: #1967D2;\n",
              "      --hover-bg-color: #E2EBFA;\n",
              "      --hover-fill-color: #174EA6;\n",
              "      --disabled-fill-color: #AAA;\n",
              "      --disabled-bg-color: #DDD;\n",
              "  }\n",
              "\n",
              "  [theme=dark] .colab-df-quickchart {\n",
              "      --bg-color: #3B4455;\n",
              "      --fill-color: #D2E3FC;\n",
              "      --hover-bg-color: #434B5C;\n",
              "      --hover-fill-color: #FFFFFF;\n",
              "      --disabled-bg-color: #3B4455;\n",
              "      --disabled-fill-color: #666;\n",
              "  }\n",
              "\n",
              "  .colab-df-quickchart {\n",
              "    background-color: var(--bg-color);\n",
              "    border: none;\n",
              "    border-radius: 50%;\n",
              "    cursor: pointer;\n",
              "    display: none;\n",
              "    fill: var(--fill-color);\n",
              "    height: 32px;\n",
              "    padding: 0;\n",
              "    width: 32px;\n",
              "  }\n",
              "\n",
              "  .colab-df-quickchart:hover {\n",
              "    background-color: var(--hover-bg-color);\n",
              "    box-shadow: 0 1px 2px rgba(60, 64, 67, 0.3), 0 1px 3px 1px rgba(60, 64, 67, 0.15);\n",
              "    fill: var(--button-hover-fill-color);\n",
              "  }\n",
              "\n",
              "  .colab-df-quickchart-complete:disabled,\n",
              "  .colab-df-quickchart-complete:disabled:hover {\n",
              "    background-color: var(--disabled-bg-color);\n",
              "    fill: var(--disabled-fill-color);\n",
              "    box-shadow: none;\n",
              "  }\n",
              "\n",
              "  .colab-df-spinner {\n",
              "    border: 2px solid var(--fill-color);\n",
              "    border-color: transparent;\n",
              "    border-bottom-color: var(--fill-color);\n",
              "    animation:\n",
              "      spin 1s steps(1) infinite;\n",
              "  }\n",
              "\n",
              "  @keyframes spin {\n",
              "    0% {\n",
              "      border-color: transparent;\n",
              "      border-bottom-color: var(--fill-color);\n",
              "      border-left-color: var(--fill-color);\n",
              "    }\n",
              "    20% {\n",
              "      border-color: transparent;\n",
              "      border-left-color: var(--fill-color);\n",
              "      border-top-color: var(--fill-color);\n",
              "    }\n",
              "    30% {\n",
              "      border-color: transparent;\n",
              "      border-left-color: var(--fill-color);\n",
              "      border-top-color: var(--fill-color);\n",
              "      border-right-color: var(--fill-color);\n",
              "    }\n",
              "    40% {\n",
              "      border-color: transparent;\n",
              "      border-right-color: var(--fill-color);\n",
              "      border-top-color: var(--fill-color);\n",
              "    }\n",
              "    60% {\n",
              "      border-color: transparent;\n",
              "      border-right-color: var(--fill-color);\n",
              "    }\n",
              "    80% {\n",
              "      border-color: transparent;\n",
              "      border-right-color: var(--fill-color);\n",
              "      border-bottom-color: var(--fill-color);\n",
              "    }\n",
              "    90% {\n",
              "      border-color: transparent;\n",
              "      border-bottom-color: var(--fill-color);\n",
              "    }\n",
              "  }\n",
              "</style>\n",
              "\n",
              "  <script>\n",
              "    async function quickchart(key) {\n",
              "      const quickchartButtonEl =\n",
              "        document.querySelector('#' + key + ' button');\n",
              "      quickchartButtonEl.disabled = true;  // To prevent multiple clicks.\n",
              "      quickchartButtonEl.classList.add('colab-df-spinner');\n",
              "      try {\n",
              "        const charts = await google.colab.kernel.invokeFunction(\n",
              "            'suggestCharts', [key], {});\n",
              "      } catch (error) {\n",
              "        console.error('Error during call to suggestCharts:', error);\n",
              "      }\n",
              "      quickchartButtonEl.classList.remove('colab-df-spinner');\n",
              "      quickchartButtonEl.classList.add('colab-df-quickchart-complete');\n",
              "    }\n",
              "    (() => {\n",
              "      let quickchartButtonEl =\n",
              "        document.querySelector('#df-11931246-5ef0-4e5a-bd10-8316c623f501 button');\n",
              "      quickchartButtonEl.style.display =\n",
              "        google.colab.kernel.accessAllowed ? 'block' : 'none';\n",
              "    })();\n",
              "  </script>\n",
              "</div>\n",
              "\n",
              "    </div>\n",
              "  </div>\n"
            ],
            "application/vnd.google.colaboratory.intrinsic+json": {
              "type": "dataframe",
              "summary": "{\n  \"name\": \"pd\",\n  \"rows\": 2,\n  \"fields\": [\n    {\n      \"column\": \"TenYearCHD\",\n      \"properties\": {\n        \"dtype\": \"number\",\n        \"std\": 0,\n        \"min\": 0,\n        \"max\": 1,\n        \"num_unique_values\": 2,\n        \"samples\": [\n          1,\n          0\n        ],\n        \"semantic_type\": \"\",\n        \"description\": \"\"\n      }\n    },\n    {\n      \"column\": 0,\n      \"properties\": {\n        \"dtype\": \"number\",\n        \"std\": 521,\n        \"min\": 150,\n        \"max\": 888,\n        \"num_unique_values\": 2,\n        \"samples\": [\n          150,\n          888\n        ],\n        \"semantic_type\": \"\",\n        \"description\": \"\"\n      }\n    },\n    {\n      \"column\": 1,\n      \"properties\": {\n        \"dtype\": \"number\",\n        \"std\": 5,\n        \"min\": 7,\n        \"max\": 15,\n        \"num_unique_values\": 2,\n        \"samples\": [\n          7,\n          15\n        ],\n        \"semantic_type\": \"\",\n        \"description\": \"\"\n      }\n    }\n  ]\n}"
            }
          },
          "metadata": {},
          "execution_count": 91
        },
        {
          "output_type": "display_data",
          "data": {
            "text/plain": [
              "<Figure size 640x480 with 1 Axes>"
            ],
            "image/png": "[encoded data removed]"
          },
          "metadata": {}
        }
      ]
    },
    {
      "cell_type": "markdown",
      "source": [
        "# **Conclusion:**"
      ],
      "metadata": {
        "id": "rKrHjrxU_r3g"
      }
    },
    {
      "cell_type": "markdown",
      "source": [
        "After completing this project, we can establish that the goal was assess the likelihood of individuals developing Coronary Heart Disease(CHD) over a ten-year period. We were able to start by using a subset of data from the Framingham Heart Study which focused on identifying the most significant factors that can lead to CHD risk. After understanding and testing various techniques, we found that decision trees would be the most practical in terms of their ability to handle non-linear relationships and showcase the most influential factor in each node."
      ],
      "metadata": {
        "id": "jmdF3DoQ_wlm"
      }
    },
    {
      "cell_type": "markdown",
      "source": [
        "Using a decision tree as shown in the results section, the predictive model reached an accuracy of 84%, identifying age, glucose levels, total cholesterol(TotChol), and daily cigarette consumption as the key predictors of CHD risk. This finding is pretty significant as it not only aligns with prior research indicating the importance of these factors but also enhances the predictive capabilities."
      ],
      "metadata": {
        "id": "iAMTFPo0Dzk0"
      }
    },
    {
      "cell_type": "markdown",
      "source": [
        "Criticism and Defense:"
      ],
      "metadata": {
        "id": "k9LO1Z0HF0Qr"
      }
    },
    {
      "cell_type": "markdown",
      "source": [
        "One potential criticism for this project is the fact that we may be relying on decision trees too much. For instance, decision trees are generally known to overfit data, and that can increase with the depth and complexity. Another important point is that they can be very unstable, meaning that a small change in the data can lead to a very different split which can influence the accuracy and reliability. In our case, the results were able to devise a tree that had 84% accuracy which means that the depth and complexity of the tree was able to account of the bias and variance effectively. Additionally, decision trees seemed like the best decision due to their interpretability which is crucial for understanding the influence of variables."
      ],
      "metadata": {
        "id": "RLqC62wqF3GW"
      }
    },
    {
      "cell_type": "markdown",
      "source": [
        "Another critique that could be applied is that the dataset that we used might not fully represent the general population, as it's a subset from a specific cohort. While this a valid point, the consistency of the findings with established medical knowledge about CHD risks does align with the model we have devised."
      ],
      "metadata": {
        "id": "9zjI0hAdHxMt"
      }
    },
    {
      "cell_type": "markdown",
      "source": [
        "Suggestions for further work:"
      ],
      "metadata": {
        "id": "qj0x9fqPIm8D"
      }
    },
    {
      "cell_type": "markdown",
      "source": [
        "The scope of this project can be expanded in several ways to enhance understanding and management of CHD risk. One way is that we can incorporate more diverse datasets, such as ones that include different demographic or geographic locations. Including data that covers a broad basis would definitely be helpful in the generalizability of the findings. This would also be helpful to check whether the highest risk factors hold across the various populations or if different factors emerge."
      ],
      "metadata": {
        "id": "ivFDTpoLIo2o"
      }
    },
    {
      "cell_type": "markdown",
      "source": [
        "Another way would be to integrate other machine learning techniques such as neural networks to improve predictive performance. For instance, methods like Random Forests could be better in terms of stability and accuracy compared to a decision tree as this leverages multiple models' predictions. Neural networks can also be utilized as they can capture data over more layers meaning that they could identify more complex patterns in the data that are not easily identifiable."
      ],
      "metadata": {
        "id": "9o2MB8GfJvoi"
      }
    },
    {
      "cell_type": "markdown",
      "source": [
        "Another suggestion we propose is to integrate real-time data, such as from wearable devices. These devices can measure heart rate, activity levels, and other markers which can be very influential in the predictive model. By integrating such data, we can account for continous risk assessment, providing more timely and personalized medical advice to potentially at-risk individuals."
      ],
      "metadata": {
        "id": "ruke-HUqKYcz"
      }
    },
    {
      "cell_type": "markdown",
      "source": [
        "In conclusion, this project was successfully able to extract the dataset and create a decision tree to identify and quantify the primary risk factors for CHD. In the end, the model was able to achieve high accuracy and provide insightful results that align with existing medical knowledge. By taking a look into the criticisms and suggestions for further work, we can see that there can be improvements done to this process which can efficiently identify CHD risk factors, ultimately contributing to better health strategies and outcomes."
      ],
      "metadata": {
        "id": "sn3u_ZFSLZOr"
      }
    }
  ]
}